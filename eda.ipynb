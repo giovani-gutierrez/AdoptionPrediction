{
 "cells": [
  {
   "cell_type": "markdown",
   "id": "91d75cfa",
   "metadata": {},
   "source": [
    "# Data Cleaning and Exploratory Data Analysis"
   ]
  },
  {
   "cell_type": "code",
   "execution_count": 80,
   "id": "8334425c",
   "metadata": {},
   "outputs": [],
   "source": [
    "import numpy as np\n",
    "import pandas as pd\n",
    "import matplotlib.pyplot as plt\n",
    "import seaborn as sns\n",
    "from janitor import clean_names\n",
    "\n",
    "sns.set_theme()"
   ]
  },
  {
   "cell_type": "markdown",
   "id": "85bcb5c8",
   "metadata": {},
   "source": [
    "## Data Cleaning and Basic Statistics"
   ]
  },
  {
   "cell_type": "code",
   "execution_count": 30,
   "id": "aa87fc04",
   "metadata": {},
   "outputs": [],
   "source": [
    "# last modified 07/04/2025\n",
    "raw_data = pd.read_csv('data/raw_data.csv')"
   ]
  },
  {
   "cell_type": "code",
   "execution_count": 31,
   "id": "5f2f0230",
   "metadata": {},
   "outputs": [
    {
     "data": {
      "text/html": [
       "<div>\n",
       "<style scoped>\n",
       "    .dataframe tbody tr th:only-of-type {\n",
       "        vertical-align: middle;\n",
       "    }\n",
       "\n",
       "    .dataframe tbody tr th {\n",
       "        vertical-align: top;\n",
       "    }\n",
       "\n",
       "    .dataframe thead th {\n",
       "        text-align: right;\n",
       "    }\n",
       "</style>\n",
       "<table border=\"1\" class=\"dataframe\">\n",
       "  <thead>\n",
       "    <tr style=\"text-align: right;\">\n",
       "      <th></th>\n",
       "      <th>Animal ID</th>\n",
       "      <th>Animal Name</th>\n",
       "      <th>Animal Type</th>\n",
       "      <th>Primary Color</th>\n",
       "      <th>Secondary Color</th>\n",
       "      <th>Sex</th>\n",
       "      <th>DOB</th>\n",
       "      <th>Intake Date</th>\n",
       "      <th>Intake Condition</th>\n",
       "      <th>Intake Type</th>\n",
       "      <th>...</th>\n",
       "      <th>Outcome Type</th>\n",
       "      <th>Outcome Subtype</th>\n",
       "      <th>latitude</th>\n",
       "      <th>longitude</th>\n",
       "      <th>intake_is_dead</th>\n",
       "      <th>outcome_is_dead</th>\n",
       "      <th>was_outcome_alive</th>\n",
       "      <th>geopoint</th>\n",
       "      <th>intake_duration</th>\n",
       "      <th>is_current_month</th>\n",
       "    </tr>\n",
       "  </thead>\n",
       "  <tbody>\n",
       "    <tr>\n",
       "      <th>0</th>\n",
       "      <td>A615796</td>\n",
       "      <td>*TALIA</td>\n",
       "      <td>CAT</td>\n",
       "      <td>BLACK</td>\n",
       "      <td>WHITE</td>\n",
       "      <td>Female</td>\n",
       "      <td>2018-04-06</td>\n",
       "      <td>2018-10-06</td>\n",
       "      <td>NORMAL</td>\n",
       "      <td>STRAY</td>\n",
       "      <td>...</td>\n",
       "      <td>TRANSFER</td>\n",
       "      <td>SPCALA</td>\n",
       "      <td>33.786316</td>\n",
       "      <td>-118.158948</td>\n",
       "      <td>Alive on Intake</td>\n",
       "      <td>False</td>\n",
       "      <td>1</td>\n",
       "      <td>33.7863161, -118.1589477</td>\n",
       "      <td>49.0</td>\n",
       "      <td>0</td>\n",
       "    </tr>\n",
       "    <tr>\n",
       "      <th>1</th>\n",
       "      <td>A638666</td>\n",
       "      <td>SAM</td>\n",
       "      <td>DOG</td>\n",
       "      <td>RED</td>\n",
       "      <td>WHITE</td>\n",
       "      <td>Male</td>\n",
       "      <td>2018-01-17</td>\n",
       "      <td>2020-01-17</td>\n",
       "      <td>NORMAL</td>\n",
       "      <td>STRAY</td>\n",
       "      <td>...</td>\n",
       "      <td>RETURN TO OWNER</td>\n",
       "      <td>WALKIN</td>\n",
       "      <td>33.786316</td>\n",
       "      <td>-118.158948</td>\n",
       "      <td>Alive on Intake</td>\n",
       "      <td>False</td>\n",
       "      <td>1</td>\n",
       "      <td>33.7863161, -118.1589477</td>\n",
       "      <td>1.0</td>\n",
       "      <td>0</td>\n",
       "    </tr>\n",
       "    <tr>\n",
       "      <th>2</th>\n",
       "      <td>A691756</td>\n",
       "      <td>*SNICKERDOODLE</td>\n",
       "      <td>DOG</td>\n",
       "      <td>BLACK</td>\n",
       "      <td>BROWN</td>\n",
       "      <td>Spayed</td>\n",
       "      <td>2022-01-12</td>\n",
       "      <td>2023-06-10</td>\n",
       "      <td>NORMAL</td>\n",
       "      <td>OWNER SURRENDER</td>\n",
       "      <td>...</td>\n",
       "      <td>ADOPTION</td>\n",
       "      <td>NaN</td>\n",
       "      <td>33.785933</td>\n",
       "      <td>-118.103039</td>\n",
       "      <td>Alive on Intake</td>\n",
       "      <td>False</td>\n",
       "      <td>1</td>\n",
       "      <td>33.78593300000001, -118.1030391</td>\n",
       "      <td>21.0</td>\n",
       "      <td>0</td>\n",
       "    </tr>\n",
       "    <tr>\n",
       "      <th>3</th>\n",
       "      <td>A669649</td>\n",
       "      <td>*AMBUSH</td>\n",
       "      <td>DOG</td>\n",
       "      <td>CREAM</td>\n",
       "      <td>NaN</td>\n",
       "      <td>Neutered</td>\n",
       "      <td>2020-01-22</td>\n",
       "      <td>2022-03-09</td>\n",
       "      <td>NORMAL</td>\n",
       "      <td>RETURN</td>\n",
       "      <td>...</td>\n",
       "      <td>ADOPTION</td>\n",
       "      <td>NaN</td>\n",
       "      <td>33.791683</td>\n",
       "      <td>-118.212197</td>\n",
       "      <td>Alive on Intake</td>\n",
       "      <td>False</td>\n",
       "      <td>1</td>\n",
       "      <td>33.7916834, -118.2121968</td>\n",
       "      <td>0.0</td>\n",
       "      <td>0</td>\n",
       "    </tr>\n",
       "    <tr>\n",
       "      <th>4</th>\n",
       "      <td>A652817</td>\n",
       "      <td>HARLEY</td>\n",
       "      <td>DOG</td>\n",
       "      <td>BLACK</td>\n",
       "      <td>WHITE</td>\n",
       "      <td>Unknown</td>\n",
       "      <td>2018-01-01</td>\n",
       "      <td>2021-01-01</td>\n",
       "      <td>NORMAL</td>\n",
       "      <td>CONFISCATE</td>\n",
       "      <td>...</td>\n",
       "      <td>RETURN TO OWNER</td>\n",
       "      <td>MICROCHIP</td>\n",
       "      <td>33.798951</td>\n",
       "      <td>-118.212194</td>\n",
       "      <td>Alive on Intake</td>\n",
       "      <td>False</td>\n",
       "      <td>1</td>\n",
       "      <td>33.7989506, -118.2121945</td>\n",
       "      <td>0.0</td>\n",
       "      <td>0</td>\n",
       "    </tr>\n",
       "  </tbody>\n",
       "</table>\n",
       "<p>5 rows × 25 columns</p>\n",
       "</div>"
      ],
      "text/plain": [
       "  Animal ID     Animal Name Animal Type Primary Color Secondary Color  \\\n",
       "0   A615796          *TALIA         CAT         BLACK           WHITE   \n",
       "1   A638666             SAM         DOG           RED           WHITE   \n",
       "2   A691756  *SNICKERDOODLE         DOG         BLACK           BROWN   \n",
       "3   A669649         *AMBUSH         DOG         CREAM             NaN   \n",
       "4   A652817          HARLEY         DOG         BLACK           WHITE   \n",
       "\n",
       "        Sex         DOB Intake Date Intake Condition      Intake Type  ...  \\\n",
       "0    Female  2018-04-06  2018-10-06           NORMAL            STRAY  ...   \n",
       "1      Male  2018-01-17  2020-01-17           NORMAL            STRAY  ...   \n",
       "2    Spayed  2022-01-12  2023-06-10           NORMAL  OWNER SURRENDER  ...   \n",
       "3  Neutered  2020-01-22  2022-03-09           NORMAL           RETURN  ...   \n",
       "4   Unknown  2018-01-01  2021-01-01           NORMAL       CONFISCATE  ...   \n",
       "\n",
       "      Outcome Type Outcome Subtype   latitude   longitude   intake_is_dead  \\\n",
       "0         TRANSFER          SPCALA  33.786316 -118.158948  Alive on Intake   \n",
       "1  RETURN TO OWNER          WALKIN  33.786316 -118.158948  Alive on Intake   \n",
       "2         ADOPTION             NaN  33.785933 -118.103039  Alive on Intake   \n",
       "3         ADOPTION             NaN  33.791683 -118.212197  Alive on Intake   \n",
       "4  RETURN TO OWNER       MICROCHIP  33.798951 -118.212194  Alive on Intake   \n",
       "\n",
       "  outcome_is_dead was_outcome_alive                         geopoint  \\\n",
       "0           False                 1         33.7863161, -118.1589477   \n",
       "1           False                 1         33.7863161, -118.1589477   \n",
       "2           False                 1  33.78593300000001, -118.1030391   \n",
       "3           False                 1         33.7916834, -118.2121968   \n",
       "4           False                 1         33.7989506, -118.2121945   \n",
       "\n",
       "   intake_duration is_current_month  \n",
       "0             49.0                0  \n",
       "1              1.0                0  \n",
       "2             21.0                0  \n",
       "3              0.0                0  \n",
       "4              0.0                0  \n",
       "\n",
       "[5 rows x 25 columns]"
      ]
     },
     "execution_count": 31,
     "metadata": {},
     "output_type": "execute_result"
    }
   ],
   "source": [
    "# preview data\n",
    "raw_data.head()"
   ]
  },
  {
   "cell_type": "code",
   "execution_count": 32,
   "id": "212a15bc",
   "metadata": {},
   "outputs": [
    {
     "data": {
      "text/plain": [
       "(32931, 25)"
      ]
     },
     "execution_count": 32,
     "metadata": {},
     "output_type": "execute_result"
    }
   ],
   "source": [
    "# number of obs and columns/vars\n",
    "raw_data.shape"
   ]
  },
  {
   "cell_type": "code",
   "execution_count": 33,
   "id": "6226b1e2",
   "metadata": {},
   "outputs": [
    {
     "name": "stdout",
     "output_type": "stream",
     "text": [
      "<class 'pandas.core.frame.DataFrame'>\n",
      "RangeIndex: 32931 entries, 0 to 32930\n",
      "Data columns (total 25 columns):\n",
      " #   Column             Non-Null Count  Dtype  \n",
      "---  ------             --------------  -----  \n",
      " 0   Animal ID          32931 non-null  object \n",
      " 1   Animal Name        19417 non-null  object \n",
      " 2   Animal Type        32931 non-null  object \n",
      " 3   Primary Color      32931 non-null  object \n",
      " 4   Secondary Color    15535 non-null  object \n",
      " 5   Sex                32931 non-null  object \n",
      " 6   DOB                28758 non-null  object \n",
      " 7   Intake Date        32931 non-null  object \n",
      " 8   Intake Condition   32931 non-null  object \n",
      " 9   Intake Type        32931 non-null  object \n",
      " 10  Intake Subtype     32493 non-null  object \n",
      " 11  Reason for Intake  2134 non-null   object \n",
      " 12  Outcome Date       32620 non-null  object \n",
      " 13  Crossing           32931 non-null  object \n",
      " 14  Jurisdiction       32930 non-null  object \n",
      " 15  Outcome Type       32605 non-null  object \n",
      " 16  Outcome Subtype    29268 non-null  object \n",
      " 17  latitude           32931 non-null  float64\n",
      " 18  longitude          32931 non-null  float64\n",
      " 19  intake_is_dead     32931 non-null  object \n",
      " 20  outcome_is_dead    32931 non-null  bool   \n",
      " 21  was_outcome_alive  32931 non-null  int64  \n",
      " 22  geopoint           32931 non-null  object \n",
      " 23  intake_duration    32620 non-null  float64\n",
      " 24  is_current_month   32931 non-null  int64  \n",
      "dtypes: bool(1), float64(3), int64(2), object(19)\n",
      "memory usage: 6.1+ MB\n"
     ]
    }
   ],
   "source": [
    "# info on dataframe\n",
    "raw_data.info()"
   ]
  },
  {
   "cell_type": "code",
   "execution_count": 34,
   "id": "7d984411",
   "metadata": {},
   "outputs": [
    {
     "data": {
      "text/html": [
       "<div>\n",
       "<style scoped>\n",
       "    .dataframe tbody tr th:only-of-type {\n",
       "        vertical-align: middle;\n",
       "    }\n",
       "\n",
       "    .dataframe tbody tr th {\n",
       "        vertical-align: top;\n",
       "    }\n",
       "\n",
       "    .dataframe thead th {\n",
       "        text-align: right;\n",
       "    }\n",
       "</style>\n",
       "<table border=\"1\" class=\"dataframe\">\n",
       "  <thead>\n",
       "    <tr style=\"text-align: right;\">\n",
       "      <th></th>\n",
       "      <th>latitude</th>\n",
       "      <th>longitude</th>\n",
       "      <th>was_outcome_alive</th>\n",
       "      <th>intake_duration</th>\n",
       "      <th>is_current_month</th>\n",
       "    </tr>\n",
       "  </thead>\n",
       "  <tbody>\n",
       "    <tr>\n",
       "      <th>count</th>\n",
       "      <td>32931.000000</td>\n",
       "      <td>32931.000000</td>\n",
       "      <td>32931.000000</td>\n",
       "      <td>32620.000000</td>\n",
       "      <td>32931.000000</td>\n",
       "    </tr>\n",
       "    <tr>\n",
       "      <th>mean</th>\n",
       "      <td>33.814675</td>\n",
       "      <td>-118.150376</td>\n",
       "      <td>0.793295</td>\n",
       "      <td>19.052667</td>\n",
       "      <td>0.012572</td>\n",
       "    </tr>\n",
       "    <tr>\n",
       "      <th>std</th>\n",
       "      <td>0.154676</td>\n",
       "      <td>0.500040</td>\n",
       "      <td>0.404948</td>\n",
       "      <td>48.272103</td>\n",
       "      <td>0.111418</td>\n",
       "    </tr>\n",
       "    <tr>\n",
       "      <th>min</th>\n",
       "      <td>19.297815</td>\n",
       "      <td>-122.695911</td>\n",
       "      <td>0.000000</td>\n",
       "      <td>0.000000</td>\n",
       "      <td>0.000000</td>\n",
       "    </tr>\n",
       "    <tr>\n",
       "      <th>25%</th>\n",
       "      <td>33.783990</td>\n",
       "      <td>-118.191074</td>\n",
       "      <td>1.000000</td>\n",
       "      <td>0.000000</td>\n",
       "      <td>0.000000</td>\n",
       "    </tr>\n",
       "    <tr>\n",
       "      <th>50%</th>\n",
       "      <td>33.806783</td>\n",
       "      <td>-118.173446</td>\n",
       "      <td>1.000000</td>\n",
       "      <td>5.000000</td>\n",
       "      <td>0.000000</td>\n",
       "    </tr>\n",
       "    <tr>\n",
       "      <th>75%</th>\n",
       "      <td>33.850842</td>\n",
       "      <td>-118.129694</td>\n",
       "      <td>1.000000</td>\n",
       "      <td>17.000000</td>\n",
       "      <td>0.000000</td>\n",
       "    </tr>\n",
       "    <tr>\n",
       "      <th>max</th>\n",
       "      <td>45.521885</td>\n",
       "      <td>-73.992360</td>\n",
       "      <td>1.000000</td>\n",
       "      <td>1410.000000</td>\n",
       "      <td>1.000000</td>\n",
       "    </tr>\n",
       "  </tbody>\n",
       "</table>\n",
       "</div>"
      ],
      "text/plain": [
       "           latitude     longitude  was_outcome_alive  intake_duration  \\\n",
       "count  32931.000000  32931.000000       32931.000000     32620.000000   \n",
       "mean      33.814675   -118.150376           0.793295        19.052667   \n",
       "std        0.154676      0.500040           0.404948        48.272103   \n",
       "min       19.297815   -122.695911           0.000000         0.000000   \n",
       "25%       33.783990   -118.191074           1.000000         0.000000   \n",
       "50%       33.806783   -118.173446           1.000000         5.000000   \n",
       "75%       33.850842   -118.129694           1.000000        17.000000   \n",
       "max       45.521885    -73.992360           1.000000      1410.000000   \n",
       "\n",
       "       is_current_month  \n",
       "count      32931.000000  \n",
       "mean           0.012572  \n",
       "std            0.111418  \n",
       "min            0.000000  \n",
       "25%            0.000000  \n",
       "50%            0.000000  \n",
       "75%            0.000000  \n",
       "max            1.000000  "
      ]
     },
     "execution_count": 34,
     "metadata": {},
     "output_type": "execute_result"
    }
   ],
   "source": [
    "# descriptive stats (exluding NA values)\n",
    "raw_data.describe()"
   ]
  },
  {
   "cell_type": "code",
   "execution_count": 35,
   "id": "fdeaa13e",
   "metadata": {},
   "outputs": [],
   "source": [
    "# clean/rename columns\n",
    "raw_data = clean_names(raw_data)"
   ]
  },
  {
   "cell_type": "code",
   "execution_count": 36,
   "id": "51ef2293",
   "metadata": {},
   "outputs": [],
   "source": [
    "# save cleaned names for later use\n",
    "column_names = raw_data.columns"
   ]
  },
  {
   "cell_type": "code",
   "execution_count": 44,
   "id": "145affb2",
   "metadata": {},
   "outputs": [],
   "source": [
    "# map 'intake_is_dead' to integers (0 or 1)\n",
    "raw_data['intake_is_dead'] = raw_data['intake_is_dead'].mask(\n",
    "    raw_data['intake_is_dead'] == 'Alive on Intake', 0\n",
    ")"
   ]
  },
  {
   "cell_type": "code",
   "execution_count": 47,
   "id": "527c9ff4",
   "metadata": {},
   "outputs": [],
   "source": [
    "# handle dtypes\n",
    "raw_data['dob'] = pd.to_datetime(raw_data['dob'])\n",
    "raw_data['intake_date'] = pd.to_datetime(raw_data['intake_date'])\n",
    "raw_data['outcome_date'] = pd.to_datetime(raw_data['outcome_date'])\n",
    "\n",
    "raw_data = raw_data.astype(\n",
    "    {\n",
    "        'animal_type': 'category',\n",
    "        'primary_color': 'category',\n",
    "        'secondary_color': 'category',\n",
    "        'sex': 'category',\n",
    "        'intake_condition': 'category',\n",
    "        'intake_type': 'category',\n",
    "        'intake_subtype': 'category',\n",
    "        'reason_for_intake': 'category',\n",
    "        'jurisdiction': 'category',\n",
    "        'outcome_type': 'category',\n",
    "        'outcome_subtype': 'category',\n",
    "        'intake_is_dead': 'bool',\n",
    "        'was_outcome_alive': 'bool',\n",
    "        'is_current_month': 'bool',\n",
    "    }\n",
    ")"
   ]
  },
  {
   "cell_type": "code",
   "execution_count": 49,
   "id": "02c5aa21",
   "metadata": {},
   "outputs": [],
   "source": [
    "# make copy of (now) cleaned data\n",
    "data = raw_data.copy()"
   ]
  },
  {
   "cell_type": "code",
   "execution_count": 50,
   "id": "1dfcc59e",
   "metadata": {},
   "outputs": [
    {
     "name": "stdout",
     "output_type": "stream",
     "text": [
      "animal_id: 31787\n",
      "animal_name: 9873\n",
      "animal_type: 10\n",
      "primary_color: 82\n",
      "secondary_color: 45\n",
      "sex: 5\n",
      "dob: 5938\n",
      "intake_date: 3130\n",
      "intake_condition: 16\n",
      "intake_type: 12\n",
      "intake_subtype: 23\n",
      "reason_for_intake: 55\n",
      "outcome_date: 3114\n",
      "crossing: 17211\n",
      "jurisdiction: 26\n",
      "outcome_type: 18\n",
      "outcome_subtype: 251\n",
      "latitude: 10198\n",
      "longitude: 10100\n",
      "intake_is_dead: 1\n",
      "outcome_is_dead: 2\n",
      "was_outcome_alive: 2\n",
      "geopoint: 10453\n",
      "intake_duration: 394\n",
      "is_current_month: 2\n"
     ]
    }
   ],
   "source": [
    "# number of unique values per column\n",
    "for col in data.columns:\n",
    "    print('{0}: {1}'.format(col, data[col].nunique()))"
   ]
  },
  {
   "cell_type": "code",
   "execution_count": 51,
   "id": "e4828047",
   "metadata": {},
   "outputs": [
    {
     "name": "stdout",
     "output_type": "stream",
     "text": [
      "animal_id: 0.0\n",
      "animal_name: 0.4103732045792718\n",
      "animal_type: 0.0\n",
      "primary_color: 0.0\n",
      "secondary_color: 0.5282560505298959\n",
      "sex: 0.0\n",
      "dob: 0.12671950441832924\n",
      "intake_date: 0.0\n",
      "intake_condition: 0.0\n",
      "intake_type: 0.0\n",
      "intake_subtype: 0.013300537487473809\n",
      "reason_for_intake: 0.9351978379034952\n",
      "outcome_date: 0.009443988946585284\n",
      "crossing: 0.0\n",
      "jurisdiction: 3.036652394400413e-05\n",
      "outcome_type: 0.009899486805745346\n",
      "outcome_subtype: 0.11123257720688713\n",
      "latitude: 0.0\n",
      "longitude: 0.0\n",
      "intake_is_dead: 0.0\n",
      "outcome_is_dead: 0.0\n",
      "was_outcome_alive: 0.0\n",
      "geopoint: 0.0\n",
      "intake_duration: 0.009443988946585284\n",
      "is_current_month: 0.0\n"
     ]
    }
   ],
   "source": [
    "# percentage of missing values per column\n",
    "for col in data.columns:\n",
    "    print('{0}: {1}'.format(col, (data[col].isna().sum() / data.shape[0])))"
   ]
  },
  {
   "cell_type": "code",
   "execution_count": 23,
   "id": "09d7229e",
   "metadata": {},
   "outputs": [
    {
     "data": {
      "text/plain": [
       "animal_type\n",
       "CAT           15754\n",
       "DOG           10408\n",
       "BIRD           2396\n",
       "OTHER          1643\n",
       "WILD           1552\n",
       "RABBIT          615\n",
       "REPTILE         361\n",
       "GUINEA PIG      188\n",
       "LIVESTOCK        12\n",
       "AMPHIBIAN         2\n",
       "Name: count, dtype: int64"
      ]
     },
     "execution_count": 23,
     "metadata": {},
     "output_type": "execute_result"
    }
   ],
   "source": [
    "# num of animals per type\n",
    "raw_data['animal_type'].value_counts()"
   ]
  },
  {
   "cell_type": "markdown",
   "id": "f0ff4d75",
   "metadata": {},
   "source": [
    "## Visual EDA"
   ]
  },
  {
   "cell_type": "code",
   "execution_count": 75,
   "id": "3b944011",
   "metadata": {},
   "outputs": [
    {
     "data": {
      "image/png": "[encoded data removed]",
      "text/plain": [
       "<Figure size 900x700 with 1 Axes>"
      ]
     },
     "metadata": {},
     "output_type": "display_data"
    }
   ],
   "source": [
    "animal_type_count = data['animal_type'].value_counts()\n",
    "\n",
    "fig, ax = plt.subplots(figsize=(9, 7))\n",
    "ax.bar(animal_type_count.index, animal_type_count)\n",
    "ax.tick_params('x', rotation=45)\n",
    "plt.show()"
   ]
  },
  {
   "cell_type": "code",
   "execution_count": 150,
   "id": "c13d58b9",
   "metadata": {},
   "outputs": [
    {
     "name": "stderr",
     "output_type": "stream",
     "text": [
      "C:\\Users\\giova\\AppData\\Local\\Temp\\ipykernel_14476\\3343217669.py:2: FutureWarning: The default of observed=False is deprecated and will be changed to True in a future version of pandas. Pass observed=False to retain current behavior or observed=True to adopt the future default and silence this warning.\n",
      "  grouped = data.groupby(by=['animal_type', 'intake_type']).agg({'animal_id': 'count'})\n"
     ]
    },
    {
     "data": {
      "image/png": "[encoded data removed]",
      "text/plain": [
       "<Figure size 800x550 with 1 Axes>"
      ]
     },
     "metadata": {},
     "output_type": "display_data"
    }
   ],
   "source": [
    "# intake type by animal type\n",
    "grouped = data.groupby(by=['animal_type', 'intake_type']).agg({'animal_id': 'count'})\n",
    "pivot = grouped.reset_index().pivot(\n",
    "    columns='intake_type', index='animal_type', values='animal_id'\n",
    ")\n",
    "percentages = pivot.div(pivot.sum(axis=1), axis=0) * 100\n",
    "\n",
    "# plot\n",
    "ax = percentages.plot(kind='bar', stacked=True)\n",
    "ax.set_title('Reasons for Intake by Animal Type')\n",
    "ax.set_xlabel('Animal Type')\n",
    "ax.set_ylabel('Animal Count (%)')\n",
    "ax.legend(title='Intake Type', bbox_to_anchor=(1.05, 1), loc=\"upper left\")\n",
    "ax.tick_params('x', rotation=45)\n",
    "plt.show()"
   ]
  },
  {
   "cell_type": "code",
   "execution_count": null,
   "id": "27a9fa07",
   "metadata": {},
   "outputs": [],
   "source": []
  }
 ],
 "metadata": {
  "kernelspec": {
   "display_name": "PersonalProjects",
   "language": "python",
   "name": "python3"
  },
  "language_info": {
   "codemirror_mode": {
    "name": "ipython",
    "version": 3
   },
   "file_extension": ".py",
   "mimetype": "text/x-python",
   "name": "python",
   "nbconvert_exporter": "python",
   "pygments_lexer": "ipython3",
   "version": "3.13.5"
  }
 },
 "nbformat": 4,
 "nbformat_minor": 5
}
